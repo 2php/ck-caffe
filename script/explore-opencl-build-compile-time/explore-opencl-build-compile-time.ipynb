{
 "cells": [
  {
   "cell_type": "markdown",
   "metadata": {},
   "source": [
    "# Evaluating OpenCL Caffe caching mechanisms"
   ]
  },
  {
   "cell_type": "markdown",
   "metadata": {},
   "source": [
    "## Table of Contents"
   ]
  },
  {
   "cell_type": "markdown",
   "metadata": {},
   "source": [
    "1. [Overview](#overview)\n",
    "1. [Get the data](#data) [for developers]\n",
    "1. [See the code](#code) [for developers]\n",
    "1. [See the tables](#tables)\n",
    "1. [See the graphs](#graphs)\n",
    "  1. [All program create, program build and kernel compile OpenCL API calls](#graphs_all_calls)\n",
    "  1. [Only kernel compile OpenCL API calls](#graphs_compile_calls)"
   ]
  },
  {
   "cell_type": "markdown",
   "metadata": {},
   "source": [
    "<a id=\"data\"></a>\n",
    "## Get the experimental data"
   ]
  },
  {
   "cell_type": "markdown",
   "metadata": {},
   "source": [
    "**NB:** Please ignore this section if you are not interested in re-running or modifying this notebook. "
   ]
  },
  {
   "cell_type": "markdown",
   "metadata": {},
   "source": [
    "The experimental data was collected on the Odroid-XU3 experimental platform and archived as follows:\n",
    "```\n",
    "$ export VIENNACL_CACHE_DIR=/tmp/viennacl-cache/\n",
    "$ rm -rf $VIENNACL_CACHE_DIR\n",
    "$ mkdir $VIENNACL_CACHE_DIR\n",
    "$ ck benchmark program:caffe \\\n",
    "  --record --record_repo=local --record_uoa=caffe-opencl-build-compile-original-cache-none \\\n",
    "  --dvdt_prof --skip_stat_analysis \\\n",
    "  --cmd_key=time_gpu --cpu_freq=max --repetitions=3 \\\n",
    "  --env.CK_CAFFE_BATCH_SIZE=1 \\\n",
    "  --tags=caffe,opencl,build,compile,original,cache-none\n",
    "$ ck benchmark program:caffe \\\n",
    "  --record --record_repo=local --record_uoa=caffe-opencl-build-compile-original-cache-cold \\\n",
    "  --dvdt_prof --skip_stat_analysis \\\n",
    "  --cmd_key=time_gpu --cpu_freq=max --repetitions=3 \\\n",
    "  --env.CK_CAFFE_BATCH_SIZE=1 --env.VIENNACL_CACHE_PATH=$VIENNACL_CACHE_DIR \\\n",
    "  --tags=caffe,opencl,build,compile,original,cache-cold\n",
    "$ ck benchmark program:caffe \\\n",
    "  --record --record_repo=local --record_uoa=caffe-opencl-build-compile-original-cache-warm \\\n",
    "  --dvdt_prof --skip_stat_analysis \\\n",
    "  --cmd_key=time_gpu --cpu_freq=max --repetitions=3 \\\n",
    "  --env.CK_CAFFE_BATCH_SIZE=1 --env.VIENNACL_CACHE_PATH=$VIENNACL_CACHE_DIR \\\n",
    "  --tags=caffe,opencl,build,compile,original,cache-warm\n",
    "$ ck zip local:experiment:caffe-opencl-build-compile-original-cache* \\\n",
    "  --archive_name=caffe-opencl-build-compile-original-odroid-xu3.zip\n",
    "```\n",
    "\n",
    "The resulting archive was copied to another machine and extracted for analysis as follows:\n",
    "```\n",
    "$ ck add repo:caffe-opencl-build-compile-original-odroid-xu3 \\\n",
    "  --zip=caffe-opencl-build-compile-original-odroid-xu3.zip --quiet\n",
    "```"
   ]
  },
  {
   "cell_type": "markdown",
   "metadata": {},
   "source": [
    "<a id=\"code\"></a>\n",
    "## Data wrangling code"
   ]
  },
  {
   "cell_type": "markdown",
   "metadata": {},
   "source": [
    "**NB:** Please ignore this section if you are not interested in re-running or modifying this notebook."
   ]
  },
  {
   "cell_type": "markdown",
   "metadata": {},
   "source": [
    "### Includes"
   ]
  },
  {
   "cell_type": "markdown",
   "metadata": {},
   "source": [
    "#### Standard"
   ]
  },
  {
   "cell_type": "code",
   "execution_count": null,
   "metadata": {
    "collapsed": true
   },
   "outputs": [],
   "source": [
    "import os\n",
    "import sys\n",
    "import json\n",
    "import re"
   ]
  },
  {
   "cell_type": "markdown",
   "metadata": {},
   "source": [
    "#### Date util "
   ]
  },
  {
   "cell_type": "code",
   "execution_count": null,
   "metadata": {
    "collapsed": true
   },
   "outputs": [],
   "source": [
    "import dateutil.parser"
   ]
  },
  {
   "cell_type": "markdown",
   "metadata": {},
   "source": [
    "#### Scientific"
   ]
  },
  {
   "cell_type": "markdown",
   "metadata": {},
   "source": [
    "If some of the scientific packages are missing, please install them using:\n",
    "```\n",
    "# pip install jupyter pandas numpy matplotlib\n",
    "```"
   ]
  },
  {
   "cell_type": "code",
   "execution_count": null,
   "metadata": {
    "collapsed": false
   },
   "outputs": [],
   "source": [
    "import IPython as ip\n",
    "import pandas as pd\n",
    "import numpy as np\n",
    "import matplotlib as mp"
   ]
  },
  {
   "cell_type": "code",
   "execution_count": null,
   "metadata": {
    "collapsed": false
   },
   "outputs": [],
   "source": [
    "print ('IPython version: %s' % ip.__version__)\n",
    "print ('Pandas version: %s' % pd.__version__)\n",
    "print ('NumPy version: %s' % np.__version__)\n",
    "print ('Matplotlib version: %s' % mp.__version__)"
   ]
  },
  {
   "cell_type": "code",
   "execution_count": null,
   "metadata": {
    "collapsed": false
   },
   "outputs": [],
   "source": [
    "import matplotlib.pyplot as plt\n",
    "from matplotlib import cm\n",
    "%matplotlib inline"
   ]
  },
  {
   "cell_type": "code",
   "execution_count": null,
   "metadata": {
    "collapsed": true
   },
   "outputs": [],
   "source": [
    "from IPython.display import Image\n",
    "from IPython.core.display import HTML"
   ]
  },
  {
   "cell_type": "markdown",
   "metadata": {},
   "source": [
    "#### Collective Knowledge"
   ]
  },
  {
   "cell_type": "markdown",
   "metadata": {},
   "source": [
    "If CK is not installed, please install it using:\n",
    "```\n",
    "# pip install ck\n",
    "```"
   ]
  },
  {
   "cell_type": "code",
   "execution_count": null,
   "metadata": {
    "collapsed": false
   },
   "outputs": [],
   "source": [
    "import ck.kernel as ck\n",
    "print ('CK version: %s' % ck.__version__)"
   ]
  },
  {
   "cell_type": "markdown",
   "metadata": {},
   "source": [
    "### Create, build and compile OpenCL API calls"
   ]
  },
  {
   "cell_type": "code",
   "execution_count": null,
   "metadata": {
    "collapsed": true
   },
   "outputs": [],
   "source": [
    "# All OpenCL API calls to create program, build program and compile kernels.\n",
    "create_build_compile_calls = [\n",
    "    'clCreateProgramWithSource',\n",
    "    'clCreateProgramWithBinary',\n",
    "    'clBuildProgram',\n",
    "    'clCreateKernel',\n",
    "    'clCreateKernelsInProgram'\n",
    "]"
   ]
  },
  {
   "cell_type": "markdown",
   "metadata": {},
   "source": [
    "### Calculate time elapsed between two ISO timestamps"
   ]
  },
  {
   "cell_type": "code",
   "execution_count": null,
   "metadata": {
    "collapsed": true
   },
   "outputs": [],
   "source": [
    "# Return the difference between the end and start timestamps in seconds.\n",
    "def ts_delta_s(ts_end, ts_start):\n",
    "    delta = dateutil.parser.parse(ts_end) - dateutil.parser.parse(ts_start)\n",
    "    delta_s = delta.total_seconds()\n",
    "    return delta_s\n",
    "\n",
    "# Return the difference between the end and start timestamps in milliseconds.\n",
    "def ts_delta_ms(ts_end, ts_start):\n",
    "    delta_s = ts_delta_s(ts_end, ts_start)\n",
    "    delta_ms = delta_s * 1e3\n",
    "    return delta_ms"
   ]
  },
  {
   "cell_type": "markdown",
   "metadata": {},
   "source": [
    "### Access the experimental data"
   ]
  },
  {
   "cell_type": "code",
   "execution_count": null,
   "metadata": {
    "collapsed": false
   },
   "outputs": [],
   "source": [
    "def get_experimental_results(repo_uoa, common_tags):\n",
    "    module_uoa = 'experiment'\n",
    "    r = ck.access({'action':'search', 'repo_uoa':repo_uoa, 'module_uoa':module_uoa, 'tags':common_tags})\n",
    "    if r['return']>0:\n",
    "        print (\"Error: %s\" % r['error'])\n",
    "        exit(1)\n",
    "    experiments = r['lst']\n",
    "    \n",
    "    experiment_dfs = []\n",
    "    for experiment in experiments:\n",
    "        data_uoa = experiment['data_uoa']\n",
    "        r = ck.access({'action':'list_points', 'repo_uoa':repo_uoa, 'module_uoa':module_uoa, 'data_uoa':data_uoa})\n",
    "        if r['return']>0:\n",
    "            print (\"Error: %s\" % r['error'])\n",
    "            exit(1)\n",
    "\n",
    "        unique_tags = ','.join([ tag for tag in r['dict']['tags'] if tag not in common_tags])\n",
    "        point_dfs = []\n",
    "        for point in r['points']:\n",
    "            with open(os.path.join(r['path'], 'ckp-%s.0001.json' % point)) as point_file:\n",
    "                point_data_raw = json.load(point_file)\n",
    "            # Traces for all repetitions of this point.\n",
    "            trace_list = [\n",
    "                characteristics['run'].get('dvdt_prof',[]) for characteristics in point_data_raw['characteristics_list']\n",
    "            ]                \n",
    "            # All OpenCL API calls to create program, build program and compile kernels.\n",
    "            create_build_compile_dfs = []\n",
    "            for trace in trace_list:\n",
    "                # Only include the first repetition of the 'cache-cold' experiment \n",
    "                # (as the subsequent ones are in fact 'cache-warm').\n",
    "                if unique_tags=='cache-cold' and create_build_compile_dfs: continue\n",
    "                create_build_compile_trace = [\n",
    "                    { 'call' : call['call'], 'time_ms': ts_delta_ms(call['timestamp']['end'], call['timestamp']['start']) }\n",
    "                    for call in trace if call['call'] in create_build_compile_calls \n",
    "                ]\n",
    "                create_build_compile_df = pd.DataFrame(create_build_compile_trace).set_index(['call'], append=True)\n",
    "                create_build_compile_dfs.append(create_build_compile_df)\n",
    "            # Aggregate all calls.\n",
    "            point_df = pd.concat(create_build_compile_dfs, axis=1)\n",
    "            point_dfs.append(point_df)\n",
    "        # Aggregate all points.\n",
    "        experiment_df = pd.concat(point_dfs)\n",
    "        experiment_df.columns = [ [unique_tags]*len(experiment_df.columns), range(len(experiment_df.columns)) ]\n",
    "        experiment_dfs.append(experiment_df)\n",
    "    # Aggregate all experiments.\n",
    "    result_df = pd.concat(experiment_dfs, axis=1)\n",
    "    # Convert to preferred format.\n",
    "    result_df = result_df.rename(\n",
    "        index={'clCreateProgramWithBinary':'clCreateProgram*', 'clCreateProgramWithSource':'clCreateProgram*'}\n",
    "    )\n",
    "    result_df = result_df.stack(0)\n",
    "    return result_df"
   ]
  },
  {
   "cell_type": "markdown",
   "metadata": {},
   "source": [
    "### Plot the execution time"
   ]
  },
  {
   "cell_type": "code",
   "execution_count": null,
   "metadata": {
    "collapsed": true
   },
   "outputs": [],
   "source": [
    "def plot(mean, std, title='Execution time (ms)', ymax=0, rot=0):\n",
    "    ymax = mean.max().max() if ymax==0 else ymax\n",
    "    mean.plot(yerr=std, ylim=[0,ymax*1.05], title=title,\n",
    "        kind='bar', rot=rot, figsize=[16, 8], grid=True, legend=True, colormap=cm.autumn)"
   ]
  },
  {
   "cell_type": "markdown",
   "metadata": {},
   "source": [
    "<a id=\"tables\"></a>\n",
    "## Tables"
   ]
  },
  {
   "cell_type": "code",
   "execution_count": null,
   "metadata": {
    "collapsed": false
   },
   "outputs": [],
   "source": [
    "repo_uoa = 'caffe-opencl-build-compile-original-odroid-xu3'\n",
    "common_tags = 'caffe,opencl,build,compile,original'\n",
    "result = get_experimental_results(repo_uoa, common_tags)"
   ]
  },
  {
   "cell_type": "code",
   "execution_count": null,
   "metadata": {
    "collapsed": false
   },
   "outputs": [],
   "source": [
    "pd.options.display.max_columns = len(result.columns)\n",
    "pd.options.display.max_rows = len(result.index)\n",
    "result"
   ]
  },
  {
   "cell_type": "markdown",
   "metadata": {},
   "source": [
    "<a id=\"graphs\"></a>\n",
    "## Graphs"
   ]
  },
  {
   "cell_type": "markdown",
   "metadata": {},
   "source": [
    "<a id=\"graphs_all_calls\"></a>\n",
    "### All program create, program build and kernel compile OpenCL API calls"
   ]
  },
  {
   "cell_type": "code",
   "execution_count": null,
   "metadata": {
    "collapsed": false
   },
   "outputs": [],
   "source": [
    "mean = result.mean(axis=1).unstack()\n",
    "std = result.std(axis=1).unstack()\n",
    "plot(mean, std, rot=90)"
   ]
  },
  {
   "cell_type": "markdown",
   "metadata": {},
   "source": [
    "The `clCreateProgram*()` calls only take considerable time for the 'cache-warm' experiment (i.e. `clCreateProgramWithBinary()`), while the `clBuildProgram()` calls only take considerable time for the 'cache-none' and 'cache cold' experiments."
   ]
  },
  {
   "cell_type": "markdown",
   "metadata": {},
   "source": [
    "The execution time of the `clCreateKernelsInProgram()` calls, however, is practically the same whether using the original ViennaCL caching mechanism or not, which suggests it's simply ineffective on this platform."
   ]
  },
  {
   "cell_type": "markdown",
   "metadata": {},
   "source": [
    "<a id=\"graphs_compile_calls\"></a>\n",
    "### Only kernel compile OpenCL API calls"
   ]
  },
  {
   "cell_type": "code",
   "execution_count": null,
   "metadata": {
    "collapsed": false
   },
   "outputs": [],
   "source": [
    "plot(mean.swaplevel().ix['clCreateKernelsInProgram'], std.swaplevel().ix['clCreateKernelsInProgram'])"
   ]
  }
 ],
 "metadata": {
  "kernelspec": {
   "display_name": "Python 2",
   "language": "python",
   "name": "python2"
  },
  "language_info": {
   "codemirror_mode": {
    "name": "ipython",
    "version": 2
   },
   "file_extension": ".py",
   "mimetype": "text/x-python",
   "name": "python",
   "nbconvert_exporter": "python",
   "pygments_lexer": "ipython2",
   "version": "2.7.12"
  }
 },
 "nbformat": 4,
 "nbformat_minor": 0
}
