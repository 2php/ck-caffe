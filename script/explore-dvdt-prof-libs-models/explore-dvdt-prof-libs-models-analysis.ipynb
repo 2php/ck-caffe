{
 "cells": [
  {
   "cell_type": "markdown",
   "metadata": {
    "deletable": true,
    "editable": true
   },
   "source": [
    "# [PUBLIC] Analyse OpenCL Caffe profiling"
   ]
  },
  {
   "cell_type": "markdown",
   "metadata": {
    "deletable": true,
    "editable": true
   },
   "source": [
    "We analyse profiling **performance** (execution time) of OpenCL Caffe with the following:\n",
    "- CNN **models** (net + weights):\n",
    "  - GoogleNet;\n",
    "  - AlexNet;\n",
    "  - SqueezeNet 1.0;\n",
    "  - SqueezeNet 1.1;\n",
    "\n",
    "- OpenCL BLAS **libraries**:\n",
    "  - CLBlast dev (> 0.10.0)."
   ]
  },
  {
   "cell_type": "markdown",
   "metadata": {
    "deletable": true,
    "editable": true
   },
   "source": [
    "## Includes"
   ]
  },
  {
   "cell_type": "markdown",
   "metadata": {
    "deletable": true,
    "editable": true
   },
   "source": [
    "### Standard"
   ]
  },
  {
   "cell_type": "code",
   "execution_count": null,
   "metadata": {
    "collapsed": true,
    "deletable": true,
    "editable": true
   },
   "outputs": [],
   "source": [
    "import os\n",
    "import sys\n",
    "import json"
   ]
  },
  {
   "cell_type": "markdown",
   "metadata": {
    "deletable": true,
    "editable": true
   },
   "source": [
    "### Scientific"
   ]
  },
  {
   "cell_type": "code",
   "execution_count": null,
   "metadata": {
    "collapsed": false,
    "deletable": true,
    "editable": true
   },
   "outputs": [],
   "source": [
    "import IPython as ip\n",
    "import numpy as np\n",
    "import scipy as sp\n",
    "import pandas as pd\n",
    "import matplotlib as mp"
   ]
  },
  {
   "cell_type": "code",
   "execution_count": null,
   "metadata": {
    "collapsed": false,
    "deletable": true,
    "editable": true
   },
   "outputs": [],
   "source": [
    "print 'IPython version: %s' % ip.__version__\n",
    "print 'NumPy version: %s' % np.__version__\n",
    "print 'SciPy version: %s' % sp.__version__\n",
    "print 'Pandas version: %s' % pd.__version__\n",
    "print 'Matplotlib version: %s' % mp.__version__"
   ]
  },
  {
   "cell_type": "code",
   "execution_count": null,
   "metadata": {
    "collapsed": true,
    "deletable": true,
    "editable": true
   },
   "outputs": [],
   "source": [
    "import matplotlib.pyplot as plt\n",
    "from matplotlib import cm\n",
    "%matplotlib inline\n",
    "# import scipy.stats as st"
   ]
  },
  {
   "cell_type": "markdown",
   "metadata": {
    "deletable": true,
    "editable": true
   },
   "source": [
    "### Collective Knowledge"
   ]
  },
  {
   "cell_type": "code",
   "execution_count": null,
   "metadata": {
    "collapsed": false,
    "deletable": true,
    "editable": true
   },
   "outputs": [],
   "source": [
    "import ck.kernel as ck\n",
    "print 'CK version: %s' % ck.__version__"
   ]
  },
  {
   "cell_type": "code",
   "execution_count": null,
   "metadata": {
    "collapsed": false,
    "deletable": true,
    "editable": true
   },
   "outputs": [],
   "source": [
    "r=ck.access({'action':'show', 'module_uoa':'env', 'tags':'tool,opencl,dvdt,prof'})\n",
    "if r['return']>0:\n",
    "    print (\"Error: %s\" % r['error'])\n",
    "    exit(1)\n",
    "# Get path the first returned environment entry.\n",
    "dvdt_prof_dir=r['lst'][0]['meta']['env']['CK_ENV_TOOL_DVDT_PROF']\n",
    "dvdt_prof_src_python=os.path.join(dvdt_prof_dir,'src','python')\n",
    "sys.path.append(dvdt_prof_src_python)\n",
    "import prof_wrangler as pw\n",
    "pw.test()"
   ]
  },
  {
   "cell_type": "markdown",
   "metadata": {
    "deletable": true,
    "editable": true
   },
   "source": [
    "## Access experimental results"
   ]
  },
  {
   "cell_type": "code",
   "execution_count": null,
   "metadata": {
    "collapsed": false,
    "deletable": true,
    "editable": true
   },
   "outputs": [],
   "source": [
    "def get_experimental_results(tags):\n",
    "    r=ck.access({'action':'search', 'module_uoa':'experiment', 'tags':tags})\n",
    "    if r['return']>0:\n",
    "        print (\"Error: %s\" % r['error'])\n",
    "        exit(1)\n",
    "    # FIXME: For now, assume a single entry per the given tags.\n",
    "    r=ck.access({'action':'list_points', 'module_uoa':'experiment', 'data_uoa': r['lst'][0]['data_uoa']})\n",
    "    if r['return']>0:\n",
    "        print (\"Error: %s\" % r['error'])\n",
    "        exit(1)\n",
    "    \n",
    "    results = {}\n",
    "    for point in r['points']:\n",
    "        with open(os.path.join(r['path'], 'ckp-%s.0001.json' % point)) as point_file:\n",
    "            point_data_raw = json.load(point_file)\n",
    "            run_info_list = [\n",
    "                characteristics['run']\n",
    "                for characteristics in point_data_raw['characteristics_list']\n",
    "                if characteristics['run']['run_success'] == 'yes'\n",
    "            ]\n",
    "            # Select characteristics of interest. TODO: simplify.\n",
    "            point_data_dict = {\n",
    "                'time_fw_ms' : [ run_info.get('time_fw_ms',0)      for run_info in run_info_list ],\n",
    "                'dvdt_prof'  : [ run_info.get('dvdt_prof',{})      for run_info in run_info_list ],\n",
    "                'per_layer'  : [ run_info.get('per_layer_info',[]) for run_info in run_info_list ]\n",
    "            }\n",
    "            batch_size = point_data_raw['choices']['env']['CK_CAFFE_BATCH_SIZE']\n",
    "            results[batch_size] = point_data_dict\n",
    "    return results"
   ]
  },
  {
   "cell_type": "code",
   "execution_count": null,
   "metadata": {
    "collapsed": true,
    "deletable": true,
    "editable": true
   },
   "outputs": [],
   "source": [
    "def get_min_time_fw_per_image(results):\n",
    "    time_fw_ms = { k : v['time_fw_ms'] for (k,v) in results.iteritems()}\n",
    "    df = pd.DataFrame(data=time_fw_ms)\n",
    "    df.index.name = 'repetition'\n",
    "    df.columns.name = 'batch size'\n",
    "    return (df.describe().ix['min'] / range(1,len(time_fw_ms)+1)).min()"
   ]
  },
  {
   "cell_type": "markdown",
   "metadata": {
    "deletable": true,
    "editable": true
   },
   "source": [
    "### AlexNet"
   ]
  },
  {
   "cell_type": "code",
   "execution_count": null,
   "metadata": {
    "collapsed": false,
    "deletable": true,
    "editable": true
   },
   "outputs": [],
   "source": [
    "alexnet_clblast_tags = 'dvdt-prof,caffe,opencl-clblast,bvlc-alexnet'\n",
    "alexnet_clblast_results = get_experimental_results(alexnet_clblast_tags)\n",
    "alexnet_clblast_min_time_fw_per_image = get_min_time_fw_per_image(alexnet_clblast_results)\n",
    "alexnet_clblast_min_time_fw_per_image"
   ]
  },
  {
   "cell_type": "markdown",
   "metadata": {
    "deletable": true,
    "editable": true
   },
   "source": [
    "### SqueezeNet 1.0"
   ]
  },
  {
   "cell_type": "code",
   "execution_count": null,
   "metadata": {
    "collapsed": false
   },
   "outputs": [],
   "source": [
    "squeezenet_1_0_clblast_tags = 'dvdt-prof,caffe,opencl-clblast,deepscale-squeezenet-1.0'\n",
    "squeezenet_1_0_clblast_results = get_experimental_results(squeezenet_1_0_clblast_tags)\n",
    "squeezenet_1_0_clblast_min_time_fw_per_image = get_min_time_fw_per_image(squeezenet_1_0_clblast_results)\n",
    "squeezenet_1_0_clblast_min_time_fw_per_image"
   ]
  },
  {
   "cell_type": "markdown",
   "metadata": {
    "deletable": true,
    "editable": true
   },
   "source": [
    "### SqueezeNet 1.1"
   ]
  },
  {
   "cell_type": "code",
   "execution_count": null,
   "metadata": {
    "collapsed": false
   },
   "outputs": [],
   "source": [
    "squeezenet_1_1_clblast_tags = 'dvdt-prof,caffe,opencl-clblast,deepscale-squeezenet-1.1'\n",
    "squeezenet_1_1_clblast_results = get_experimental_results(squeezenet_1_1_clblast_tags)\n",
    "squeezenet_1_1_clblast_min_time_fw_per_image = get_min_time_fw_per_image(squeezenet_1_1_clblast_results)\n",
    "squeezenet_1_1_clblast_min_time_fw_per_image"
   ]
  },
  {
   "cell_type": "markdown",
   "metadata": {
    "deletable": true,
    "editable": true
   },
   "source": [
    "### GoogleNet"
   ]
  },
  {
   "cell_type": "code",
   "execution_count": null,
   "metadata": {
    "collapsed": false
   },
   "outputs": [],
   "source": [
    "googlenet_clblast_tags = 'dvdt-prof,caffe,opencl-clblast,bvlc-googlenet'\n",
    "googlenet_clblast_results = get_experimental_results(googlenet_clblast_tags)\n",
    "googlenet_clblast_min_time_fw_per_image = get_min_time_fw_per_image(googlenet_clblast_results)\n",
    "googlenet_clblast_min_time_fw_per_image"
   ]
  },
  {
   "cell_type": "markdown",
   "metadata": {
    "deletable": true,
    "editable": true
   },
   "source": [
    "## Execution time - data frame"
   ]
  },
  {
   "cell_type": "code",
   "execution_count": null,
   "metadata": {
    "collapsed": false,
    "deletable": true,
    "editable": true
   },
   "outputs": [],
   "source": [
    "data = {\n",
    "    'dvdt-prof' : {\n",
    "        'AlexNet'      : alexnet_clblast_min_time_fw_per_image,\n",
    "        'SqueezeNet 1.0' : squeezenet_1_0_clblast_min_time_fw_per_image,\n",
    "        'SqueezeNet 1.1' : squeezenet_1_1_clblast_min_time_fw_per_image,\n",
    "        'GoogleNet'      : googlenet_clblast_min_time_fw_per_image,\n",
    "    },\n",
    "}\n",
    "df = pd.DataFrame(data)\n",
    "df"
   ]
  },
  {
   "cell_type": "markdown",
   "metadata": {
    "deletable": true,
    "editable": true
   },
   "source": [
    "## Execution time - plot"
   ]
  },
  {
   "cell_type": "code",
   "execution_count": null,
   "metadata": {
    "collapsed": false,
    "deletable": true,
    "editable": true
   },
   "outputs": [],
   "source": [
    "ymax = 500 #df.max()*1.05\n",
    "df.T \\\n",
    "    .plot(title='Execution time per image (ms)',\n",
    "          kind='bar', rot=0, ylim=[0,ymax], figsize=[12, 6], grid=True, legend=True, colormap=cm.autumn)"
   ]
  },
  {
   "cell_type": "markdown",
   "metadata": {
    "deletable": true,
    "editable": true
   },
   "source": [
    "# Execution profile"
   ]
  },
  {
   "cell_type": "code",
   "execution_count": null,
   "metadata": {
    "collapsed": true,
    "deletable": true,
    "editable": true
   },
   "outputs": [],
   "source": [
    "# Preferred time unit ('ns', 'us', 'ms', 's').\n",
    "unit = 'ms'"
   ]
  },
  {
   "cell_type": "code",
   "execution_count": null,
   "metadata": {
    "collapsed": false,
    "deletable": true,
    "editable": true
   },
   "outputs": [],
   "source": [
    "alexnet_clblast_batchsize1_trace0 = alexnet_clblast_results[1]['dvdt_prof'][0]\n",
    "trace = alexnet_clblast_batchsize1_trace0\n",
    "trace = pw.index_calls(trace)"
   ]
  },
  {
   "cell_type": "code",
   "execution_count": null,
   "metadata": {
    "collapsed": true,
    "deletable": true,
    "editable": true
   },
   "outputs": [],
   "source": [
    "# Partial trace only containing kernel enqueues.\n",
    "kernel_enqueues = pw.filter_calls(trace, ['clEnqueueNDRangeKernel'])"
   ]
  },
  {
   "cell_type": "code",
   "execution_count": null,
   "metadata": {
    "collapsed": false,
    "deletable": true,
    "editable": true
   },
   "outputs": [],
   "source": [
    "# # Use a simple helper that works for any enqueue. Scale by 1e-6 to get ms.\n",
    "# df_kernel_enqueues = pw.df_enqueues_ns(kernel_enqueues) * 1e-6\n",
    "# df_kernel_enqueues"
   ]
  },
  {
   "cell_type": "code",
   "execution_count": null,
   "metadata": {
    "collapsed": false,
    "deletable": true,
    "editable": true
   },
   "outputs": [],
   "source": [
    "# Use a more sophisticated helper that works only for kernel enqueues.\n",
    "df_kernel_enqueues = pw.df_kernel_enqueues(kernel_enqueues, unit)\n",
    "df_kernel_enqueues"
   ]
  },
  {
   "cell_type": "code",
   "execution_count": null,
   "metadata": {
    "collapsed": false,
    "deletable": true,
    "editable": true
   },
   "outputs": [],
   "source": [
    "# Cumulative kernel execution time according to timestamps.\n",
    "df_kernel_enqueues[['t1 - t0 (%s)' % unit]].sum()"
   ]
  },
  {
   "cell_type": "code",
   "execution_count": null,
   "metadata": {
    "collapsed": false,
    "deletable": true,
    "editable": true
   },
   "outputs": [],
   "source": [
    "# Cumulative kernel execution time according to profiling.\n",
    "df_kernel_enqueues[['p3 - p2 (%s)' % unit]].sum()"
   ]
  },
  {
   "cell_type": "code",
   "execution_count": null,
   "metadata": {
    "collapsed": false,
    "deletable": true,
    "editable": true
   },
   "outputs": [],
   "source": [
    "# Show kernel enqueues that take at least 1 ms to execute and with at least 5% of overhead in profiling.\n",
    "df_kernel_enqueues[\n",
    "    (df_kernel_enqueues['t1 - t0 (ms)'] > 1.00) & \\\n",
    "    (df_kernel_enqueues['t1 - t0 (ms)'] > 1.05 * df_kernel_enqueues['p3 - p0 (ms)'])\n",
    "]"
   ]
  },
  {
   "cell_type": "code",
   "execution_count": null,
   "metadata": {
    "collapsed": false,
    "deletable": true,
    "editable": true
   },
   "outputs": [],
   "source": [
    "df_kernel_enqueues_cumulative_time_num = pw.df_kernel_enqueues_cumulative_time_num(df_kernel_enqueues, unit)\n",
    "df_kernel_enqueues_cumulative_time_num[\n",
    "    df_kernel_enqueues_cumulative_time_num['** Execution time (%) **'] > 0.2"
   ]
  }
 ],
 "metadata": {
  "kernelspec": {
   "display_name": "Python 2",
   "language": "python",
   "name": "python2"
  },
  "language_info": {
   "codemirror_mode": {
    "name": "ipython",
    "version": 2
   },
   "file_extension": ".py",
   "mimetype": "text/x-python",
   "name": "python",
   "nbconvert_exporter": "python",
   "pygments_lexer": "ipython2",
   "version": "2.7.12"
  }
 },
 "nbformat": 4,
 "nbformat_minor": 0
}
