{
 "cells": [
  {
   "cell_type": "markdown",
   "metadata": {
    "deletable": true,
    "editable": true
   },
   "source": [
    "# [PUBLIC] Analyse kernel profiling"
   ]
  },
  {
   "cell_type": "markdown",
   "metadata": {
    "deletable": true,
    "editable": true
   },
   "source": [
    "<a id=\"data\"></a>\n",
    "## Get the experimental data from DropBox"
   ]
  },
  {
   "cell_type": "markdown",
   "metadata": {
    "deletable": true,
    "editable": true
   },
   "source": [
    "**NB:** Please ignore this section if you are not interested in re-running or modifying this notebook. "
   ]
  },
  {
   "cell_type": "markdown",
   "metadata": {
    "deletable": true,
    "editable": true
   },
   "source": [
    "The experimental data was collected on the experimental platform and archived as follows:\n",
    "```\n",
    "$ cd `ck find ck-caffe:script:dvdt-prof`\n",
    "$ python explore-dvdt-prof-libs-models-benchmarking.py\n",
    "$ ck zip local:experiment:dvdt-prof-* --archive_name=ck-caffe-dvdt-prof-<...>.zip\n",
    "```\n",
    "The data can be downloaded and extracted as follows:\n",
    "\n",
    "```\n",
    "$ wget http://dl.dropboxusercontent.com/u/<...>/ck-caffe/public/dvdt-prof-<...>.zip\n",
    "$ ck add repo:ck-caffe-dvdt-prof-<...> --zip=ck-caffe-dvdt-prof-<...>.zip --quiet\n",
    "```"
   ]
  },
  {
   "cell_type": "markdown",
   "metadata": {
    "deletable": true,
    "editable": true
   },
   "source": [
    "## Includes"
   ]
  },
  {
   "cell_type": "markdown",
   "metadata": {
    "deletable": true,
    "editable": true
   },
   "source": [
    "### Standard"
   ]
  },
  {
   "cell_type": "code",
   "execution_count": null,
   "metadata": {
    "collapsed": true,
    "deletable": true,
    "editable": true
   },
   "outputs": [],
   "source": [
    "import os\n",
    "import sys\n",
    "import json\n",
    "import time"
   ]
  },
  {
   "cell_type": "markdown",
   "metadata": {
    "deletable": true,
    "editable": true
   },
   "source": [
    "### Scientific"
   ]
  },
  {
   "cell_type": "code",
   "execution_count": null,
   "metadata": {
    "collapsed": false,
    "deletable": true,
    "editable": true
   },
   "outputs": [],
   "source": [
    "import IPython as ip\n",
    "import numpy as np\n",
    "import scipy as sp\n",
    "import pandas as pd\n",
    "import matplotlib as mp"
   ]
  },
  {
   "cell_type": "code",
   "execution_count": null,
   "metadata": {
    "collapsed": false,
    "deletable": true,
    "editable": true
   },
   "outputs": [],
   "source": [
    "print('IPython version: %s' % ip.__version__)\n",
    "print('NumPy version: %s' % np.__version__)\n",
    "print('SciPy version: %s' % sp.__version__)\n",
    "print('Pandas version: %s' % pd.__version__)\n",
    "print('Matplotlib version: %s' % mp.__version__)"
   ]
  },
  {
   "cell_type": "code",
   "execution_count": null,
   "metadata": {
    "collapsed": false,
    "deletable": true,
    "editable": true
   },
   "outputs": [],
   "source": [
    "import matplotlib.pyplot as plt\n",
    "from matplotlib import cm\n",
    "%matplotlib inline\n",
    "# import scipy.stats as st"
   ]
  },
  {
   "cell_type": "code",
   "execution_count": null,
   "metadata": {
    "collapsed": true
   },
   "outputs": [],
   "source": [
    "from IPython.display import display"
   ]
  },
  {
   "cell_type": "markdown",
   "metadata": {
    "deletable": true,
    "editable": true
   },
   "source": [
    "### Collective Knowledge"
   ]
  },
  {
   "cell_type": "code",
   "execution_count": null,
   "metadata": {
    "collapsed": false,
    "deletable": true,
    "editable": true
   },
   "outputs": [],
   "source": [
    "import ck.kernel as ck\n",
    "print('CK version: %s' % ck.__version__)"
   ]
  },
  {
   "cell_type": "code",
   "execution_count": null,
   "metadata": {
    "collapsed": false,
    "deletable": true,
    "editable": true
   },
   "outputs": [],
   "source": [
    "# NB: Install dvdt-prof first e.g. as \"ck install ck-caffe/package/tool-dvdt-prof-cjson\".\n",
    "r=ck.access({'action':'show', 'module_uoa':'env', 'tags':'tool,opencl,dvdt,prof'})\n",
    "if r['return']>0:\n",
    "    print (\"Error: %s\" % r['error'])\n",
    "    exit(1)\n",
    "# Get the path to the first returned environment entry.\n",
    "dvdt_prof_dir=r['lst'][0]['meta']['env']['CK_ENV_TOOL_DVDT_PROF']\n",
    "dvdt_prof_src_python=os.path.join(dvdt_prof_dir,'src','python')\n",
    "sys.path.append(dvdt_prof_src_python)\n",
    "import prof_wrangler as pw\n",
    "import prof_common as pc\n",
    "pw.test()\n",
    "pc.test()"
   ]
  },
  {
   "cell_type": "markdown",
   "metadata": {
    "deletable": true,
    "editable": true
   },
   "source": [
    "## Access experimental results"
   ]
  },
  {
   "cell_type": "code",
   "execution_count": null,
   "metadata": {
    "collapsed": false,
    "deletable": true,
    "editable": true,
    "scrolled": false
   },
   "outputs": [],
   "source": [
    "def get_experimental_results(repo_uoa='local', tags='dvdt-prof'):\n",
    "    module_uoa = 'experiment'\n",
    "    r=ck.access({'action':'search', 'repo_uoa':repo_uoa, 'module_uoa':module_uoa, 'tags':tags})\n",
    "    if r['return']>0:\n",
    "        print (\"Error: %s\" % r['error'])\n",
    "        exit(1)\n",
    "\n",
    "    dfs = []\n",
    "    experiments=r['lst']\n",
    "    for experiment in experiments:\n",
    "        data_uoa = experiment['data_uoa']\n",
    "        r = ck.access({'action':'list_points', 'repo_oua':repo_uoa, 'module_uoa':module_uoa, 'data_uoa':data_uoa})\n",
    "        if r['return']>0:\n",
    "            print (\"Error: %s\" % r['error'])\n",
    "            exit(1)\n",
    "        \n",
    "        # Get (lib_tag, model_tag) from a list of tags that should be available in r['dict']['tags'].\n",
    "        # Tags include 2 of the 3 irrelevant tags, a model tag and a lib tag.\n",
    "        # NB: Since it's easier to list all model tags than all lib tags, the latter list is not expicitly specified.\n",
    "        tags = r['dict']['tags']\n",
    "        irrelevant_tags = [ 'dvdt-prof', 'caffe' ]\n",
    "        model_tags = [ 'bvlc-alexnet','bvlc-googlenet','deepscale-squeezenet-1.0','deepscale-squeezenet-1.1' ]\n",
    "        lib_model_tags = [ tag for tag in tags if tag not in irrelevant_tags ]\n",
    "        model_tags = [ tag for tag in lib_model_tags if tag in model_tags ]\n",
    "        lib_tags = [ tag for tag in lib_model_tags if tag not in model_tags ]\n",
    "        if len(lib_tags)==1 and len(model_tags)==1:\n",
    "             (lib, model) = (lib_tags[0], model_tags[0])\n",
    "        else:\n",
    "            continue\n",
    "\n",
    "        for point in r['points']:\n",
    "            with open(os.path.join(r['path'], 'ckp-%s.0001.json' % point)) as point_file:\n",
    "                point_data_raw = json.load(point_file)    \n",
    "            characteristics_list = point_data_raw['characteristics_list']\n",
    "            num_repetitions = len(characteristics_list)\n",
    "            # DataFrame columns.\n",
    "            data = [\n",
    "                {\n",
    "                    # features\n",
    "                    'platform' : point_data_raw['features']['platform']['platform']['model'],\n",
    "                    # choices\n",
    "                    'lib' : lib,\n",
    "                    'model' : model,\n",
    "                    'batch_size' : point_data_raw['choices']['env'].get('CK_CAFFE_BATCH_SIZE',[]),\n",
    "                    # statistical repetitions\n",
    "                    'repetition_id' : repetition_id,\n",
    "                    # runtime characteristics\n",
    "                    'time (ms)'     : np.float32(characteristics['run'].get('time_fw_ms',0)),\n",
    "                    'dvdt_prof_info': characteristics['run'].get('dvdt_prof',[]),\n",
    "                    'per_layer_info': characteristics['run'].get('per_layer_info',[]),\n",
    "                }\n",
    "                for (repetition_id, characteristics) in zip(range(num_repetitions), characteristics_list)  \n",
    "                if characteristics['run'].get('run_success','')!=''\n",
    "            ]\n",
    "            df = pd.DataFrame(data)\n",
    "            df.columns.name = 'characteristics'\n",
    "            df.index.name = 'index'\n",
    "            df = df.set_index([ 'platform', 'lib', 'model', 'batch_size', 'repetition_id' ])\n",
    "            dfs.append(df)\n",
    "        results = pd.concat(dfs).sortlevel()\n",
    "    return results"
   ]
  },
  {
   "cell_type": "code",
   "execution_count": null,
   "metadata": {
    "collapsed": false,
    "deletable": true,
    "editable": true,
    "scrolled": true
   },
   "outputs": [],
   "source": [
    "df = get_experimental_results(repo_uoa='local', tags='dvdt-prof')\n",
    "pd.options.display.max_columns = len(df.columns)\n",
    "pd.options.display.max_rows = len(df.index)\n",
    "df"
   ]
  },
  {
   "cell_type": "markdown",
   "metadata": {
    "deletable": true,
    "editable": true
   },
   "source": [
    "## Check execution time distribution"
   ]
  },
  {
   "cell_type": "code",
   "execution_count": null,
   "metadata": {
    "collapsed": false,
    "deletable": true,
    "editable": true
   },
   "outputs": [],
   "source": [
    "pd.options.display.max_columns = len(df.columns)\n",
    "pd.options.display.max_rows = len(df.index)*8\n",
    "df.groupby(level=df.index.names[:-1])[['time (ms)']].describe()"
   ]
  },
  {
   "cell_type": "markdown",
   "metadata": {
    "deletable": true,
    "editable": true
   },
   "source": [
    "## Plot execution time"
   ]
  },
  {
   "cell_type": "code",
   "execution_count": null,
   "metadata": {
    "collapsed": true,
    "deletable": true,
    "editable": true
   },
   "outputs": [],
   "source": [
    "def plot(mean, std, rot=0):\n",
    "    mean \\\n",
    "        .plot(yerr=std, title='Execution time (ms)', kind='bar', colormap=cm.autumn,\n",
    "            figsize=[16, 8], rot=rot, grid=True, legend=True) \\\n",
    "        .legend(loc='upper left')"
   ]
  },
  {
   "cell_type": "code",
   "execution_count": null,
   "metadata": {
    "collapsed": false,
    "deletable": true,
    "editable": true
   },
   "outputs": [],
   "source": [
    "df_mean = df.groupby(level=df.index.names[:-1])['time (ms)'].mean().unstack('lib')\n",
    "df_std = df.groupby(level=df.index.names[:-1])['time (ms)'].std().unstack('lib')\n",
    "plot(df_mean, df_std, rot=45)"
   ]
  },
  {
   "cell_type": "markdown",
   "metadata": {
    "deletable": true,
    "editable": true
   },
   "source": [
    "## Show profiling info"
   ]
  },
  {
   "cell_type": "code",
   "execution_count": null,
   "metadata": {
    "collapsed": false,
    "deletable": true,
    "editable": true
   },
   "outputs": [],
   "source": [
    "df_min = df \\\n",
    "    .ix[df.groupby(level=df.index.names[:-1])['time (ms)'].idxmin()] \\\n",
    "    .reset_index('repetition_id', drop=True)\n",
    "df_min"
   ]
  },
  {
   "cell_type": "code",
   "execution_count": null,
   "metadata": {
    "collapsed": false,
    "deletable": true,
    "editable": true
   },
   "outputs": [],
   "source": [
    "batch_size = 1\n",
    "df_model_lib = df_min[['dvdt_prof_info']] \\\n",
    "    .reset_index('platform', drop=True) \\\n",
    "    .reorder_levels([ 'batch_size', 'model', 'lib']) \\\n",
    "    .loc[batch_size] \\\n",
    "    .sortlevel()\n",
    "df_model_lib"
   ]
  },
  {
   "cell_type": "code",
   "execution_count": null,
   "metadata": {
    "collapsed": false,
    "deletable": true,
    "editable": true
   },
   "outputs": [],
   "source": [
    "unit = 'ms'"
   ]
  },
  {
   "cell_type": "markdown",
   "metadata": {
    "deletable": true,
    "editable": true
   },
   "source": [
    "## Analyse models"
   ]
  },
  {
   "cell_type": "code",
   "execution_count": null,
   "metadata": {
    "collapsed": true,
    "deletable": true,
    "editable": true
   },
   "outputs": [],
   "source": [
    "def analyse_model(df_model_lib, model, lib, min_pc=1.0):\n",
    "    trace = pw.index_calls(df_model_lib.loc[model].loc[lib]['dvdt_prof_info'])\n",
    "    # All kernel enqueues.\n",
    "    df_kernel_enqueues = pw.df_kernel_enqueues(pw.filter_calls(trace, ['clEnqueueNDRangeKernel']), unit='ms')\n",
    "    # Kernel enqueues that take at least 'min_pc' % of the execution time.\n",
    "    df_kernel_enqueues_cum_time_num = pw.df_kernel_enqueues_cumulative_time_num(df_kernel_enqueues, unit)\n",
    "    df_kernel_enqueues_cum_time_num.columns.name = '%s, %s' % (model, lib)\n",
    "    return df_kernel_enqueues_cum_time_num[df_kernel_enqueues_cum_time_num['** Execution time (%) **'] > min_pc]"
   ]
  },
  {
   "cell_type": "code",
   "execution_count": null,
   "metadata": {
    "collapsed": false
   },
   "outputs": [],
   "source": [
    "lib = 'opencl-clblast'\n",
    "pd.options.display.max_columns = 3\n",
    "pd.options.display.max_rows = 20\n",
    "for model in [ 'bvlc-alexnet', 'bvlc-googlenet', 'deepscale-squeezenet-1.0', 'deepscale-squeezenet-1.1']:\n",
    "    display(analyse_model(df_model_lib, model, lib, min_pc=2.0))"
   ]
  },
  {
   "cell_type": "markdown",
   "metadata": {
    "deletable": true,
    "editable": true
   },
   "source": [
    "## Analyse kernels"
   ]
  },
  {
   "cell_type": "code",
   "execution_count": null,
   "metadata": {
    "collapsed": false,
    "deletable": true,
    "editable": true
   },
   "outputs": [],
   "source": [
    "def analyse_kernel(df_model_lib, model, lib, kernel):\n",
    "    trace = pw.index_calls(df_model_lib.loc[model].loc[lib]['dvdt_prof_info'])\n",
    "    # All kernel enqueues.\n",
    "    nqs = pw.filter_calls(trace, ['clEnqueueNDRangeKernel'])\n",
    "    df = pw.df_kernel_enqueues(nqs, unit='ms').swaplevel().ix[kernel]\n",
    "    \n",
    "    # All calls to set kernel args.\n",
    "    set_args = pw.filter_calls(trace, ['clSetKernelArg'])\n",
    "    \n",
    "    mnk_triples = []\n",
    "    for nq in nqs:\n",
    "        if nq['name'] == kernel:\n",
    "            mnk_triple = []\n",
    "            for set_arg in set_args:\n",
    "                if (set_arg['kernel']==nq['kernel']) and (0<=set_arg['arg_index'] and set_arg['arg_index']<=2):\n",
    "                    mnk_triple.append(pc.hex_str_as_int(set_arg['arg_value']))\n",
    "            mnk_triples.append(tuple(mnk_triple))\n",
    "\n",
    "    df['kSizeM'] = 'N/A'; df['kSizeN'] = 'N/A'; df['kSizeK'] = 'N/A'    \n",
    "    df[['kSizeM', 'kSizeN', 'kSizeK']] = mnk_triples\n",
    "    df['GFLOPS'] = (2*df['kSizeM']*df['kSizeN']*df['kSizeK']*1e-9) / (df['p3 - p2 (ms)']*1e-3)\n",
    "    \n",
    "    return df"
   ]
  },
  {
   "cell_type": "code",
   "execution_count": null,
   "metadata": {
    "collapsed": false
   },
   "outputs": [],
   "source": [
    "pd.options.display.max_columns = 14+4\n",
    "pd.options.display.max_rows = 30\n",
    "analyse_kernel(df_model_lib, 'bvlc-alexnet', 'opencl-clblast', 'XgemmDirectTN')"
   ]
  },
  {
   "cell_type": "markdown",
   "metadata": {
    "deletable": true,
    "editable": true
   },
   "source": [
    "### TODO: Augment kernel enqueues with layer info"
   ]
  },
  {
   "cell_type": "code",
   "execution_count": null,
   "metadata": {
    "collapsed": false,
    "deletable": true,
    "editable": true
   },
   "outputs": [],
   "source": [
    "# def convert_time(t):\n",
    "# #     get hh:mm:ss:decilmals\n",
    "#     h,m,s = t.split(\".\")[0].split(\":\")  #[0] hours, minutes, seconds [1] milliseconds ... \n",
    "#     tsec = (int(h)*3600) + (int(m)*60) + int(s)\n",
    "#     total = float(tsec) + float(\"0.\" + t.split(\".\")[1]) \n",
    "#     return float(total)"
   ]
  },
  {
   "cell_type": "code",
   "execution_count": null,
   "metadata": {
    "collapsed": false,
    "deletable": true,
    "editable": true
   },
   "outputs": [],
   "source": [
    "# print len(trace)\n",
    "# print len(trace_layer)\n",
    "# epoch_layer=[]\n",
    "# for tlc in trace_layer[1:len(trace_layer)]:\n",
    "#     epoch_layer.append(convert_time(tlc['timestamp'].split(\" \")[1]))\n",
    "     \n",
    "# print \"````````````````````````````````````\"\n",
    "# print tlc['timestamp'].split(\" \")\n",
    "# print \"````````````````````````````````````\"\n",
    "# print trace[len(trace)-1]['timestamp']['end']\n",
    "# print \"````````````````````````````````````\"  \n",
    "# p = len(epoch_layer)\n",
    "# last_trace = 0\n",
    "\n",
    "\n",
    "# # t = trace[0]['timestamp']['end'].split(\"T\")[1]\n",
    "# # t = convert_time(t)\n",
    "# # print (\"first converted %s last epoch layer %s\" %(t,epoch_layer[0]))\n",
    "\n",
    "\n",
    "\n",
    "# # t = trace[0]['timestamp']['end'].split(\"T\")[1]\n",
    "# # t = convert_time(t)\n",
    "# # print (\"second converted %s last epoch layer %s\" %(t,epoch_layer[1]))\n",
    "\n",
    "# lc = 0\n",
    "# for i in range (0, len(trace)):\n",
    "#     t = trace[i]['timestamp']['end'].split(\"T\")[1]\n",
    "#     nt = convert_time(t)\n",
    "    \n",
    "#     if (nt < epoch_layer[lc]):\n",
    "#         print (\"%s (%s) belongs to %s\" %(nt, trace[i]['timestamp']['end'].split(\"T\")[1],epoch_layer[lc]))\n",
    "#     else:\n",
    "#         print \"##############################################\"\n",
    "#         print \"new layer %s ( how many trace %s)\"% (lc,i)\n",
    "#         lc=lc+1\n",
    "\n",
    "\n",
    "# t = trace[len(trace)-1]['timestamp']['end'].split(\"T\")[1]\n",
    "# t = convert_time(t)\n",
    "# print (\"last converted %s last epoch layer %s\" %(t,epoch_layer[p-1]))"
   ]
  }
 ],
 "metadata": {
  "anaconda-cloud": {},
  "kernelspec": {
   "display_name": "Python 2",
   "language": "python",
   "name": "python2"
  },
  "language_info": {
   "codemirror_mode": {
    "name": "ipython",
    "version": 2
   },
   "file_extension": ".py",
   "mimetype": "text/x-python",
   "name": "python",
   "nbconvert_exporter": "python",
   "pygments_lexer": "ipython2",
   "version": "2.7.12"
  }
 },
 "nbformat": 4,
 "nbformat_minor": 0
}
